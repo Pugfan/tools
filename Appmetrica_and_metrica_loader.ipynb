{
 "cells": [
  {
   "cell_type": "code",
   "execution_count": null,
   "metadata": {},
   "outputs": [],
   "source": [
    "%reload_ext autoreload\n",
    "%autoreload 2\n",
    "%matplotlib inline\n",
    "import pandas as pd\n",
    "import numpy as np\n",
    "import requests\n",
    "import time\n",
    "import io\n",
    "import json\n",
    "import re"
   ]
  },
  {
   "cell_type": "code",
   "execution_count": null,
   "metadata": {},
   "outputs": [],
   "source": [
    "def auth_headers(token):\n",
    "    return {'Authorization': 'OAuth {token}'.format(token=token)}"
   ]
  },
  {
   "cell_type": "markdown",
   "metadata": {},
   "source": [
    "### Выгрузка из Аппметрики"
   ]
  },
  {
   "cell_type": "code",
   "execution_count": null,
   "metadata": {},
   "outputs": [],
   "source": [
    "responses = []\n",
    "token = \"YOUR_TOKEN\"\n",
    "apikey = \"YOUR_APIKEY\""
   ]
  },
  {
   "cell_type": "code",
   "execution_count": null,
   "metadata": {},
   "outputs": [],
   "source": [
    "date_since = '2019-05-23'\n",
    "date_until = '2019-05-23'\n",
    "columns_to_load = ['event_name', 'event_timestamp', 'appmetrica_device_id', 'os_name']\n",
    "columns_to_extract = ['event_name', 'event_timestamp', 'appmetrica_device_id', 'os_name']\n",
    "columns_to_load = str(columns_to_load).replace(\"', '\", \"%2C\").replace(\"['\", '').replace(\"']\", '')\n",
    "operating_systems = ['ios']"
   ]
  },
  {
   "cell_type": "markdown",
   "metadata": {},
   "source": [
    "в app_details_url лежит сам запрос, поля указываются в конце запроса через запятую (%2C)"
   ]
  },
  {
   "cell_type": "code",
   "execution_count": null,
   "metadata": {},
   "outputs": [],
   "source": [
    "def appmetrica_loader(apikey, date_since, date_until, token):\n",
    "    app_details_url = \"\"\"https://api.appmetrica.yandex.ru/logs/v1/export/events.csv?application_id={apikey}&date_since={date_since}%2000%3A00%3A00&date_until={date_until}%2023%3A59%3A59&date_dimension=default&use_utf8_bom=true&fields={columns_to_load}\"\"\".format(apikey=apikey\n",
    "                                                                                 , date_until=date_until\n",
    "                                                                                 , date_since=date_since\n",
    "                                                                                 , columns_to_load=columns_to_load)\n",
    "    \n",
    "    while True:\n",
    "        r = requests.get(app_details_url, headers=auth_headers(token))\n",
    "        if r.status_code == 200:\n",
    "            s=requests.get(app_details_url, headers=auth_headers(token)).content\n",
    "            df=pd.read_csv(io.StringIO(s.decode('utf-8')))\n",
    "            return(df)\n",
    "            break;\n",
    "        if r.status_code != 202:\n",
    "            print('Bad response code')\n",
    "            exit()\n",
    "        print('Result is not ready yet. Waiting')\n",
    "       "
   ]
  },
  {
   "cell_type": "code",
   "execution_count": null,
   "metadata": {},
   "outputs": [],
   "source": [
    "def filter_and_convert(df, my_id):\n",
    "    mydf = df[df['appmetrica_device_id'] == my_id].sort_values(by='event_timestamp')  \n",
    "    mydf['event_timestamp'] = pd.to_datetime(mydf['event_timestamp'] * (10 ** 9))  # convert timestamps, would be better to use _convert_timestamps from utils\n",
    "    return mydf\n",
    "\n",
    "def to_seconds(dt):\n",
    "    return int((dt - pd.datetime(1970,1,1)).total_seconds())\n"
   ]
  },
  {
   "cell_type": "markdown",
   "metadata": {},
   "source": [
    "каждый раз надо указывать новый временной промежуток, потому что на повторный запрос аппметрика будет отправлять предыдущий ответ"
   ]
  },
  {
   "cell_type": "code",
   "execution_count": null,
   "metadata": {},
   "outputs": [],
   "source": [
    "df = appmetrica_loader(apikey, date_since, date_until, token)"
   ]
  },
  {
   "cell_type": "code",
   "execution_count": null,
   "metadata": {},
   "outputs": [],
   "source": [
    "df"
   ]
  },
  {
   "cell_type": "markdown",
   "metadata": {},
   "source": [
    "### Выгрузка из Метрики"
   ]
  },
  {
   "cell_type": "code",
   "execution_count": null,
   "metadata": {},
   "outputs": [],
   "source": [
    "def auth_headers(token):\n",
    "    return {'Authorization': 'OAuth {token}'.format(token=token)}"
   ]
  },
  {
   "cell_type": "code",
   "execution_count": null,
   "metadata": {},
   "outputs": [],
   "source": [
    "id_app = \"YOUR_COUNTER\" #номер счетчика\n",
    "token_m = \"YOUR_TOKEN\" #отладочный токен"
   ]
  },
  {
   "cell_type": "markdown",
   "metadata": {},
   "source": [
    "#### Для аггрегированных отчетов"
   ]
  },
  {
   "cell_type": "code",
   "execution_count": null,
   "metadata": {},
   "outputs": [],
   "source": [
    "import requests\n",
    "import sys\n",
    "\n",
    "header = {'Authorization': 'OAuth {token}'.format(token=token_m)}\n",
    "ids = {\n",
    "    'Counter': id_app,\n",
    "}\n",
    "\n",
    "payload = {\n",
    "    'metrics': 'ym:s:visits,ym:s:users', #важно сохранить такой формат записи\n",
    "    'date1': '2019-07-16',\n",
    "    'date2': '2019-07-18',\n",
    "    #'filters': \"ym:s:deviceCategory!='mobile'\",\n",
    "    'ids': id_app,\n",
    "    'accuracy': 'full',\n",
    "    'group': 'day',\n",
    "    'expand': True,\n",
    "    'pretty': True,\n",
    "}\n",
    "\n",
    "i = 1\n",
    "for key, value in ids.items():\n",
    "    payload['ids'] = value\n",
    "    r = requests.get('https://api-metrika.yandex.ru/stat/v1/data/drilldown', params=payload, headers=header)\n",
    "    data = str(r.json()).split(\",\")\n",
    "    i += 1\n",
    "    payload['ids'] = value\n",
    "    print('total', key, data)"
   ]
  },
  {
   "cell_type": "markdown",
   "metadata": {},
   "source": [
    "#### Для сырых логов"
   ]
  },
  {
   "cell_type": "markdown",
   "metadata": {},
   "source": [
    "###### Названия нужных полей можно взять отсюда:\n",
    "\n",
    "https://yandex.ru/dev/metrika/doc/api2/logs/fields/hits-docpage/\n",
    "\n",
    "\n",
    "https://yandex.ru/dev/metrika/doc/api2/logs/fields/visits-docpage/"
   ]
  },
  {
   "cell_type": "code",
   "execution_count": null,
   "metadata": {},
   "outputs": [],
   "source": [
    "import requests\n",
    "import sys\n",
    "\n",
    "header = {'Authorization': 'OAuth {token}'.format(token=token_m)}\n",
    "ids = {\n",
    "    'Counter': id_app,\n",
    "}\n",
    "#Параметры\n",
    "payload = {\n",
    "    'fields': 'ym:pv:dateTime,ym:pv:watchID',\n",
    "    'date1': '2019-07-16',\n",
    "    'date2': '2019-07-17',\n",
    "    'source': 'hits' # another option is 'visits'\n",
    "}\n"
   ]
  },
  {
   "cell_type": "code",
   "execution_count": null,
   "metadata": {},
   "outputs": [],
   "source": [
    "from time import sleep\n",
    "\n",
    "#Функция для отправки запроса и выгрузки\n",
    "def get_results(payload, id_app):\n",
    "    print('It may take a while')\n",
    "    p = requests.post('https://api-metrika.yandex.net/management/v1/counter/{id_app}/logrequests'.format(id_app=id_app), params=payload, headers=header).content\n",
    "    request_id = json.load(io.StringIO(p.decode('utf-8')))['log_request']['request_id']\n",
    "    idx = 1\n",
    "    while True:\n",
    "        print(f\"Query: {idx}\")\n",
    "        r = requests.get('https://api-metrika.yandex.net/management/v1/counter/{id_app}/logrequest/{request_id}/part/0/download'.format(id_app=id_app, request_id=request_id), headers=header).content\n",
    "        if pd.read_csv(io.StringIO(r.decode('utf-8')), sep='\\t').shape[0] == 0:\n",
    "            idx += 1\n",
    "            sleep(60)\n",
    "        else:\n",
    "            break\n",
    "    data = pd.read_csv(io.StringIO(r.decode('utf-8')), sep='\\t')\n",
    "    return data\n"
   ]
  },
  {
   "cell_type": "code",
   "execution_count": null,
   "metadata": {},
   "outputs": [],
   "source": [
    "#Выгрузка\n",
    "get_results(payload, id_app)"
   ]
  },
  {
   "cell_type": "markdown",
   "metadata": {},
   "source": [
    "Запасной вариант, вручную то же самое"
   ]
  },
  {
   "cell_type": "code",
   "execution_count": null,
   "metadata": {},
   "outputs": [],
   "source": [
    "#Отправляем запрос на создание выгрузки, нам нужно забрать request_id, его подставляем в следующий запрос\n",
    "import json\n",
    "p = requests.post('https://api-metrika.yandex.net/management/v1/counter/{id_app}/logrequests'.format(id_app=id_app), params=payload, headers=header).content\n",
    "request_id = json.load(io.StringIO(p.decode('utf-8')))['log_request']['request_id']"
   ]
  },
  {
   "cell_type": "code",
   "execution_count": null,
   "metadata": {},
   "outputs": [],
   "source": [
    "r = requests.get('https://api-metrika.yandex.net/management/v1/counter/{id_app}/logrequest/{request_id}/part/0/download'.format(id_app=id_app, request_id=request_id), headers=header).content"
   ]
  },
  {
   "cell_type": "code",
   "execution_count": null,
   "metadata": {},
   "outputs": [],
   "source": [
    "data = pd.read_csv(io.StringIO(r.decode('utf-8')), sep='\\t')"
   ]
  }
 ],
 "metadata": {
  "kernelspec": {
   "display_name": "Python 3",
   "language": "python",
   "name": "python3"
  },
  "language_info": {
   "codemirror_mode": {
    "name": "ipython",
    "version": 3
   },
   "file_extension": ".py",
   "mimetype": "text/x-python",
   "name": "python",
   "nbconvert_exporter": "python",
   "pygments_lexer": "ipython3",
   "version": "3.7.3"
  }
 },
 "nbformat": 4,
 "nbformat_minor": 2
}
